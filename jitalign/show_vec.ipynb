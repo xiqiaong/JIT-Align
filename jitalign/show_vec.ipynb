{
 "cells": [
  {
   "cell_type": "code",
   "execution_count": 2,
   "id": "b4faac5a-5bb3-4450-8105-4bdfcad0ab99",
   "metadata": {},
   "outputs": [
    {
     "name": "stdout",
     "output_type": "stream",
     "text": [
      "First 5 message vectors:\n",
      " [[-0.1878775   0.09335123 -0.14806958 ... -0.07652314  0.03929425\n",
      "  -0.02381434]\n",
      " [-0.05505275  0.01169699 -0.1782115  ...  0.15295771  0.07378335\n",
      "   0.10323487]\n",
      " [-0.13016282  0.19422832 -0.12284414 ... -0.06242881  0.20154738\n",
      "  -0.08208967]\n",
      " [-0.17750208 -0.00132745 -0.06495102 ... -0.03381703  0.09146328\n",
      "   0.0186007 ]\n",
      " [-0.1751883  -0.03381472 -0.18982865 ...  0.10819813  0.13160154\n",
      "   0.08182798]]\n",
      "First 5 file vectors:\n",
      " [[ 0.05229216  0.00773004 -0.16374594 ... -0.08864175  0.02697686\n",
      "   0.02410326]\n",
      " [-0.02425106 -0.01306191  0.04515519 ...  0.01513861  0.08771811\n",
      "  -0.05708595]\n",
      " [-0.14431135  0.00811005 -0.00506699 ... -0.03577298  0.11180034\n",
      "   0.00344987]\n",
      " [-0.00932041 -0.09639138 -0.06233175 ...  0.07630786  0.13215972\n",
      "   0.02574849]\n",
      " [-0.19238627  0.04958484  0.1134759  ...  0.06895549 -0.00513332\n",
      "  -0.00970071]]\n",
      "First 5 message keys: ['b110264f5d0faf1f1769b1800eb11b058f2db23c', '785435a18f65fe85561d3ad39a2dfaf19b44bb41', '346671c9b46d6f53847a8780c79340114573347d', '52d0f8a6602fd933acefde48d65cf0a8caa3d3ea', 'd6c1f6a1032ed2ea99f3d8b70ccf38065163d785']\n",
      "First 5 file keys: [('b110264f5d0faf1f1769b1800eb11b058f2db23c', 'requirements.txt'), ('785435a18f65fe85561d3ad39a2dfaf19b44bb41', 'cinder/test.py'), ('785435a18f65fe85561d3ad39a2dfaf19b44bb41', 'cinder/tests/unit/api/v2/test_volumes.py'), ('785435a18f65fe85561d3ad39a2dfaf19b44bb41', 'cinder/tests/unit/api/v3/test_volumes.py'), ('346671c9b46d6f53847a8780c79340114573347d', 'cinder/tests/unit/volume/drivers/dell_emc/unity/test_adapter.py')]\n"
     ]
    }
   ],
   "source": [
    "import faiss\n",
    "import numpy as np\n",
    "import pickle\n",
    "import os\n",
    "\n",
    "# 指定 project\n",
    "project = \"openstack\"\n",
    "output_path = f\"../Data_Extraction/git_base/datasets/{project}/\"\n",
    "\n",
    "# 加载 FAISS 索引\n",
    "msg_index = faiss.read_index(os.path.join(output_path, \"msg_faiss.index\"))\n",
    "file_index = faiss.read_index(os.path.join(output_path, \"file_faiss.index\"))\n",
    "\n",
    "# 加载映射关系\n",
    "with open(os.path.join(output_path, \"faiss_mappings.pkl\"), \"rb\") as f:\n",
    "    mappings = pickle.load(f)\n",
    "\n",
    "msg_map = mappings[\"msg_map\"]\n",
    "file_map = mappings[\"file_map\"]\n",
    "msg_keys = mappings[\"msg_keys\"]\n",
    "file_keys = mappings[\"file_keys\"]\n",
    "\n",
    "# 获取前 5 个向量\n",
    "msg_vectors = np.zeros((msg_index.ntotal, msg_index.d), dtype=np.float32)\n",
    "msg_index.reconstruct_n(0, msg_index.ntotal, msg_vectors)\n",
    "\n",
    "file_vectors = np.zeros((file_index.ntotal, file_index.d), dtype=np.float32)\n",
    "file_index.reconstruct_n(0, file_index.ntotal, file_vectors)\n",
    "\n",
    "print(\"First 5 message vectors:\\n\", msg_vectors[:5])\n",
    "print(\"First 5 file vectors:\\n\", file_vectors[:5])\n",
    "\n",
    "# 打印第一个向量的键\n",
    "print(\"First 5 message keys:\", msg_keys[:5])\n",
    "print(\"First 5 file keys:\", file_keys[:5])"
   ]
  },
  {
   "cell_type": "code",
   "execution_count": null,
   "id": "ea59731f-da19-4418-a594-ca514cb626ed",
   "metadata": {},
   "outputs": [],
   "source": []
  }
 ],
 "metadata": {
  "kernelspec": {
   "display_name": "Python 3 (ipykernel)",
   "language": "python",
   "name": "python3"
  },
  "language_info": {
   "codemirror_mode": {
    "name": "ipython",
    "version": 3
   },
   "file_extension": ".py",
   "mimetype": "text/x-python",
   "name": "python",
   "nbconvert_exporter": "python",
   "pygments_lexer": "ipython3",
   "version": "3.8.20"
  }
 },
 "nbformat": 4,
 "nbformat_minor": 5
}
